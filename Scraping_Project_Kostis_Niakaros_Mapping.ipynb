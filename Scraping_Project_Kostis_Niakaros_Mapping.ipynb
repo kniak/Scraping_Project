{
 "cells": [
  {
   "cell_type": "code",
   "execution_count": 65,
   "metadata": {
    "autoscroll": false,
    "ein.hycell": false,
    "ein.tags": "worksheet-0",
    "slideshow": {
     "slide_type": "-"
    }
   },
   "outputs": [],
   "source": [
    "# Load relevant packages\n",
    "from bs4 import BeautifulSoup # For parsing html\n",
    "import requests # makes http requests\n",
    "\n",
    "from concurrent.futures import ThreadPoolExecutor\n",
    "from multiprocessing import Pool \n",
    "import time\n",
    "import threading\n",
    "from queue import Queue\n",
    "\n",
    "import csv"
   ]
  },
  {
   "cell_type": "code",
   "execution_count": 125,
   "metadata": {},
   "outputs": [],
   "source": [
    "'''Specify the URLS'''\n",
    "URL_MAIN = \"http://www.eixgrandegracia.cat\"\n",
    "URL_STORES = \"http://www.eixgrandegracia.cat/web/comercios\""
   ]
  },
  {
   "cell_type": "code",
   "execution_count": 132,
   "metadata": {},
   "outputs": [],
   "source": [
    "# Functions used for parsing \n",
    "def mapping_parser(list_of_urls): \n",
    "    results = list(map(parser, list_of_urls))\n",
    "    return results\n",
    "\n",
    "def parser(url):\n",
    "    my_info = get_info(url)[0] # gets the info for this store\n",
    "    return my_info\n",
    "\n",
    "def website_directed(url_end): # Concatenates the domain of the website with the directed URL\n",
    "    website = \"{}{}\".format(URL_MAIN, url_end)\n",
    "    return website \n",
    "\n",
    "def url_list(url):\n",
    "    urls = []\n",
    "    for i in range(len(get_soup(url).select(\"div.force-box a\"))): # searches the whole range of images that direct you to the stores info url\n",
    "        urls.append(get_soup(url).select(\"div.force-box a\")[i]['href']) # gets the url of the store\n",
    "    return(urls)\n",
    "\n",
    "def get_soup(url):\n",
    "    res = requests.get(url) # gets a webpage <Response [200]>\n",
    "    return BeautifulSoup(res.text, \"lxml\") # transforms the html code of the requested url in nice for python format\n",
    "\n",
    "def get_info(url):\n",
    "    info_one = [] # get's info from a signle item, e.g. the name of the store\n",
    "    info_all = [] # combines all info of one store\n",
    "    for j in range(len(get_soup(url).select(\"label.col-md-9\"))): \n",
    "        title = \" \".join(str.split(get_soup(url).select(\"div.col-sm-11 h3\")[0].text)) # gets the name of the store in nice format\n",
    "        info_one.append(\" \".join(str.split(get_soup(url).select(\"label.col-md-9\")[j].text))) # gets the rest of the info in nice format\n",
    "    info_all.append({'Name': title, 'URL': info_one[0], 'Product': info_one[1], 'Telephone': info_one[2], \"Adress\": info_one[3]}) # creates a dictionary with all the info of the store\n",
    "    return(info_all) \n",
    "                \n",
    "def make_csv(list_of_dictionaries):\n",
    "    keys = list_of_dictionaries[0].keys() # gets the keys of the list of dictionaries\n",
    "    with open('stores_info.csv', 'w') as output_file:\n",
    "        dict_writer = csv.DictWriter(output_file, keys) # creates an object which operates like a regular writer but maps dictionaries onto output rows.\n",
    "        dict_writer.writeheader() # writes a row with the field names\n",
    "        dict_writer.writerows(list_of_dictionaries) # writes all elements in rows"
   ]
  },
  {
   "cell_type": "code",
   "execution_count": null,
   "metadata": {
    "scrolled": false
   },
   "outputs": [],
   "source": [
    "'''Trial'''\n",
    "result = list(map(website_directed, url_list(URL_STORES)))\n",
    "mapping_parser(result)"
   ]
  },
  {
   "cell_type": "code",
   "execution_count": 5,
   "metadata": {},
   "outputs": [
    {
     "name": "stdout",
     "output_type": "stream",
     "text": [
      "[2, 4, 6, 8, 10]\n"
     ]
    }
   ],
   "source": [
    "'''For my knowledge'''\n",
    "list_of_apples = [1,2,3,4,5]\n",
    "\n",
    "def toyfun(a):\n",
    "    return a * 2\n",
    "\n",
    "#for i in range(len(list_of_apples)):\n",
    "#    list_of_apples[i] = toyfun(list_of_apples[i]) \n",
    "\n",
    "with ThreadPoolExecutor(50) as pool:\n",
    "    results = pool.map(toyfun, list_of_apples)\n",
    "print(list(results))  "
   ]
  }
 ],
 "metadata": {
  "kernelspec": {
   "display_name": "Python 3",
   "language": "python",
   "name": "python3"
  },
  "language_info": {
   "codemirror_mode": {
    "name": "ipython",
    "version": 3
   },
   "file_extension": ".py",
   "mimetype": "text/x-python",
   "name": "python",
   "nbconvert_exporter": "python",
   "pygments_lexer": "ipython3",
   "version": "3.6.5"
  },
  "name": "exercises.ipynb"
 },
 "nbformat": 4,
 "nbformat_minor": 2
}
